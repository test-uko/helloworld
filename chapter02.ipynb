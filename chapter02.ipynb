{
  "nbformat": 4,
  "nbformat_minor": 0,
  "metadata": {
    "colab": {
      "name": "chapter02.ipynb",
      "version": "0.3.2",
      "provenance": [],
      "include_colab_link": true
    },
    "kernelspec": {
      "name": "python2",
      "display_name": "Python 2"
    }
  },
  "cells": [
    {
      "cell_type": "markdown",
      "metadata": {
        "id": "view-in-github",
        "colab_type": "text"
      },
      "source": [
        "<a href=\"https://colab.research.google.com/github/test-uko/helloworld/blob/master/chapter02.ipynb\" target=\"_parent\"><img src=\"https://colab.research.google.com/assets/colab-badge.svg\" alt=\"Open In Colab\"/></a>"
      ]
    },
    {
      "cell_type": "code",
      "metadata": {
        "id": "I8LOagteL58J",
        "colab_type": "code",
        "colab": {}
      },
      "source": [
        "a_lylic = u\"でもね私のエネルギーは\"\n",
        "a_lylic = a_lylic+u\"すでにインフィニティだよ。\"\n",
        "a_lylic"
      ],
      "execution_count": 0,
      "outputs": []
    }
  ]
}